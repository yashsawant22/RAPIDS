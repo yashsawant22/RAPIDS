{
  "nbformat": 4,
  "nbformat_minor": 0,
  "metadata": {
    "colab": {
      "provenance": [],
      "machine_shape": "hm"
    },
    "kernelspec": {
      "name": "python3",
      "display_name": "Python 3"
    },
    "language_info": {
      "name": "python"
    },
    "accelerator": "GPU"
  },
  "cells": [
    {
      "cell_type": "markdown",
      "metadata": {
        "id": "7vzzwy5mDpYu"
      },
      "source": [
        "## Training Machine Learning Algorithms using Nvidia Rapids cuML"
      ]
    },
    {
      "cell_type": "code",
      "metadata": {
        "colab": {
          "base_uri": "https://localhost:8080/"
        },
        "id": "weD6JOsYF0V5",
        "outputId": "32b5ec71-6c44-4576-ddee-370d9312f7f0"
      },
      "source": [
        "!nvidia-smi"
      ],
      "execution_count": null,
      "outputs": [
        {
          "output_type": "stream",
          "text": [
            "Sat May 22 08:08:34 2021       \n",
            "+-----------------------------------------------------------------------------+\n",
            "| NVIDIA-SMI 465.19.01    Driver Version: 460.32.03    CUDA Version: 11.2     |\n",
            "|-------------------------------+----------------------+----------------------+\n",
            "| GPU  Name        Persistence-M| Bus-Id        Disp.A | Volatile Uncorr. ECC |\n",
            "| Fan  Temp  Perf  Pwr:Usage/Cap|         Memory-Usage | GPU-Util  Compute M. |\n",
            "|                               |                      |               MIG M. |\n",
            "|===============================+======================+======================|\n",
            "|   0  Tesla P100-PCIE...  Off  | 00000000:00:04.0 Off |                    0 |\n",
            "| N/A   43C    P0    28W / 250W |      0MiB / 16280MiB |      0%      Default |\n",
            "|                               |                      |                  N/A |\n",
            "+-------------------------------+----------------------+----------------------+\n",
            "                                                                               \n",
            "+-----------------------------------------------------------------------------+\n",
            "| Processes:                                                                  |\n",
            "|  GPU   GI   CI        PID   Type   Process name                  GPU Memory |\n",
            "|        ID   ID                                                   Usage      |\n",
            "|=============================================================================|\n",
            "|  No running processes found                                                 |\n",
            "+-----------------------------------------------------------------------------+\n"
          ],
          "name": "stdout"
        }
      ]
    },
    {
      "cell_type": "code",
      "metadata": {
        "id": "2k_Av5fEDkbS"
      },
      "source": [
        "# Install RAPIDS\n",
        "!git clone https://github.com/rapidsai/rapidsai-csp-utils.git\n",
        "!bash rapidsai-csp-utils/colab/rapids-colab.sh stable\n",
        "\n",
        "import sys, os, shutil\n",
        "\n",
        "sys.path.append('/usr/local/lib/python3.7/site-packages/')\n",
        "os.environ['NUMBAPRO_NVVM'] = '/usr/local/cuda/nvvm/lib64/libnvvm.so'\n",
        "os.environ['NUMBAPRO_LIBDEVICE'] = '/usr/local/cuda/nvvm/libdevice/'\n",
        "os.environ[\"CONDA_PREFIX\"] = \"/usr/local\"\n",
        "for so in ['cudf', 'rmm', 'nccl', 'cuml', 'cugraph', 'xgboost', 'cuspatial']:\n",
        "  fn = 'lib'+so+'.so'\n",
        "  source_fn = '/usr/local/lib/'+fn\n",
        "  dest_fn = '/usr/lib/'+fn\n",
        "  if os.path.exists(source_fn):\n",
        "    print(f'Copying {source_fn} to {dest_fn}')\n",
        "    shutil.copyfile(source_fn, dest_fn)\n",
        "# fix for BlazingSQL import issue\n",
        "# ImportError: /usr/lib/x86_64-linux-gnu/libstdc++.so.6: version `GLIBCXX_3.4.26' not found (required by /usr/local/lib/python3.7/site-packages/../../libblazingsql-engine.so)\n",
        "if not os.path.exists('/usr/lib64'):\n",
        "    os.makedirs('/usr/lib64')\n",
        "for so_file in os.listdir('/usr/local/lib'):\n",
        "  if 'libstdc' in so_file:\n",
        "    shutil.copyfile('/usr/local/lib/'+so_file, '/usr/lib64/'+so_file)\n",
        "    shutil.copyfile('/usr/local/lib/'+so_file, '/usr/lib/x86_64-linux-gnu/'+so_file)"
      ],
      "execution_count": null,
      "outputs": []
    },
    {
      "cell_type": "code",
      "metadata": {
        "id": "wOLqFeV_DyF1"
      },
      "source": [
        "import cudf\n",
        "from cuml import make_regression, train_test_split\n",
        "from cuml.linear_model import LinearRegression as cuLinearRegression\n",
        "from cuml.metrics.regression import r2_score\n",
        "from sklearn.linear_model import LinearRegression as skLinearRegression"
      ],
      "execution_count": null,
      "outputs": []
    },
    {
      "cell_type": "code",
      "metadata": {
        "id": "kARmf8eED8Gn"
      },
      "source": [
        "n_samples = 2**10\n",
        "n_features = 399\n",
        "\n",
        "random_state = 23"
      ],
      "execution_count": null,
      "outputs": []
    },
    {
      "cell_type": "code",
      "metadata": {
        "colab": {
          "base_uri": "https://localhost:8080/"
        },
        "id": "hdGEm3iFEI8z",
        "outputId": "1eab77c1-da6a-4137-d29f-15ec10173c23"
      },
      "source": [
        "## Lets generate some random regression data\n",
        "\n",
        "%%time\n",
        "X, y = make_regression(n_samples=n_samples, n_features=n_features, random_state=random_state)\n",
        "\n",
        "X = cudf.DataFrame(X)\n",
        "y = cudf.DataFrame(y)[0]\n",
        "\n",
        "X_cudf, X_cudf_test, y_cudf, y_cudf_test = train_test_split(X, y, test_size = 0.2, random_state=random_state)"
      ],
      "execution_count": null,
      "outputs": [
        {
          "output_type": "stream",
          "text": [
            "CPU times: user 2.78 s, sys: 904 ms, total: 3.69 s\n",
            "Wall time: 6.71 s\n"
          ],
          "name": "stdout"
        }
      ]
    },
    {
      "cell_type": "code",
      "metadata": {
        "id": "Z1pMYb6AEUrd"
      },
      "source": [
        "\n",
        "# Copy dataset from GPU memory to host memory.\n",
        "# This is done to later compare CPU and GPU results.\n",
        "X_train = X_cudf.to_pandas()\n",
        "X_test = X_cudf_test.to_pandas()\n",
        "y_train = y_cudf.to_pandas()\n",
        "y_test = y_cudf_test.to_pandas()"
      ],
      "execution_count": null,
      "outputs": []
    },
    {
      "cell_type": "code",
      "metadata": {
        "colab": {
          "base_uri": "https://localhost:8080/"
        },
        "id": "bwnoiEwGKtIg",
        "outputId": "93393e82-5d22-477b-af0f-431b0a20fab2"
      },
      "source": [
        "y_train"
      ],
      "execution_count": null,
      "outputs": [
        {
          "output_type": "execute_result",
          "data": {
            "text/plain": [
              "845     -0.171938\n",
              "480     -5.376313\n",
              "776      1.431383\n",
              "46      29.999413\n",
              "730    -18.161991\n",
              "          ...    \n",
              "278    -18.315147\n",
              "167     43.998138\n",
              "999     -8.689876\n",
              "316     -5.297952\n",
              "325   -103.086761\n",
              "Name: 0, Length: 820, dtype: float32"
            ]
          },
          "metadata": {
            "tags": []
          },
          "execution_count": 8
        }
      ]
    },
    {
      "cell_type": "markdown",
      "metadata": {
        "id": "0h4qQhW3EZ9E"
      },
      "source": [
        "## Scikit-learn Model\n",
        "## Fit, predict and evaluate"
      ]
    },
    {
      "cell_type": "code",
      "metadata": {
        "colab": {
          "base_uri": "https://localhost:8080/"
        },
        "id": "rB2InWNKEXCO",
        "outputId": "0d9a135d-7575-480e-e78a-36aa3c191e28"
      },
      "source": [
        "%%time\n",
        "ols_sk = skLinearRegression(fit_intercept=True,\n",
        "                            normalize=True,\n",
        "                            n_jobs=-1)\n",
        "\n",
        "ols_sk.fit(X_train, y_train)"
      ],
      "execution_count": null,
      "outputs": [
        {
          "output_type": "stream",
          "text": [
            "CPU times: user 108 ms, sys: 99.9 ms, total: 208 ms\n",
            "Wall time: 98.3 ms\n"
          ],
          "name": "stdout"
        }
      ]
    },
    {
      "cell_type": "code",
      "metadata": {
        "colab": {
          "base_uri": "https://localhost:8080/"
        },
        "id": "RW10mYJBEheM",
        "outputId": "fba6ba3c-d7c9-483b-a5c5-401bf76c02fe"
      },
      "source": [
        "%%time\n",
        "predict_sk = ols_sk.predict(X_test)"
      ],
      "execution_count": null,
      "outputs": [
        {
          "output_type": "stream",
          "text": [
            "CPU times: user 2.94 ms, sys: 0 ns, total: 2.94 ms\n",
            "Wall time: 6.16 ms\n"
          ],
          "name": "stdout"
        }
      ]
    },
    {
      "cell_type": "code",
      "metadata": {
        "colab": {
          "base_uri": "https://localhost:8080/"
        },
        "id": "PIhlUzTtEi1n",
        "outputId": "f4af74db-7b3e-43d9-8930-031da4e4ba04"
      },
      "source": [
        "%%time\n",
        "r2_score_sk = r2_score(y_cudf_test, predict_sk)"
      ],
      "execution_count": null,
      "outputs": [
        {
          "output_type": "stream",
          "text": [
            "CPU times: user 1.61 ms, sys: 219 µs, total: 1.83 ms\n",
            "Wall time: 1.53 ms\n"
          ],
          "name": "stdout"
        }
      ]
    },
    {
      "cell_type": "markdown",
      "metadata": {
        "id": "DFnR_h1-Fhxb"
      },
      "source": [
        "## cuML Model\n",
        "## Fit, predict and evaluate"
      ]
    },
    {
      "cell_type": "code",
      "metadata": {
        "colab": {
          "base_uri": "https://localhost:8080/"
        },
        "id": "U4p2H0h9FhLO",
        "outputId": "0caa98c5-23d7-46e7-da8f-f55dccd81e8d"
      },
      "source": [
        "\n",
        "%%time\n",
        "ols_cuml = cuLinearRegression(fit_intercept=True,\n",
        "                              normalize=True,\n",
        "                              algorithm='eig')\n",
        "\n",
        "ols_cuml.fit(X_cudf, y_cudf)"
      ],
      "execution_count": null,
      "outputs": [
        {
          "output_type": "stream",
          "text": [
            "CPU times: user 48.7 ms, sys: 4.15 ms, total: 52.8 ms\n",
            "Wall time: 69.7 ms\n"
          ],
          "name": "stdout"
        }
      ]
    },
    {
      "cell_type": "code",
      "metadata": {
        "colab": {
          "base_uri": "https://localhost:8080/"
        },
        "id": "tlbJ9P0jFogG",
        "outputId": "b379a828-fd46-412d-9899-a521d932e136"
      },
      "source": [
        "%%time\n",
        "predict_cuml = ols_cuml.predict(X_cudf_test)"
      ],
      "execution_count": null,
      "outputs": [
        {
          "output_type": "stream",
          "text": [
            "CPU times: user 43.6 ms, sys: 0 ns, total: 43.6 ms\n",
            "Wall time: 42.8 ms\n"
          ],
          "name": "stdout"
        }
      ]
    },
    {
      "cell_type": "code",
      "metadata": {
        "colab": {
          "base_uri": "https://localhost:8080/"
        },
        "id": "wXBr7sZVFq-2",
        "outputId": "309674e4-89ba-4841-ea91-b21d727b7bf3"
      },
      "source": [
        "\n",
        "%%time\n",
        "r2_score_cuml = r2_score(y_cudf_test, predict_cuml)"
      ],
      "execution_count": null,
      "outputs": [
        {
          "output_type": "stream",
          "text": [
            "CPU times: user 1.3 ms, sys: 0 ns, total: 1.3 ms\n",
            "Wall time: 1.31 ms\n"
          ],
          "name": "stdout"
        }
      ]
    },
    {
      "cell_type": "markdown",
      "metadata": {
        "id": "1JwOay6cFtG4"
      },
      "source": [
        "### Lets Compare Reuslts"
      ]
    },
    {
      "cell_type": "code",
      "metadata": {
        "colab": {
          "base_uri": "https://localhost:8080/"
        },
        "id": "-mxtSxixFsuQ",
        "outputId": "211de7b5-569a-4f56-ec37-8b07d052df3d"
      },
      "source": [
        "\n",
        "print(\"R^2 score (SKL):  %s\" % r2_score_sk)\n",
        "print(\"R^2 score (cuML): %s\" % r2_score_cuml)"
      ],
      "execution_count": null,
      "outputs": [
        {
          "output_type": "stream",
          "text": [
            "R^2 score (SKL):  1.0\n",
            "R^2 score (cuML): 1.0\n"
          ],
          "name": "stdout"
        }
      ]
    },
    {
      "cell_type": "code",
      "metadata": {
        "id": "-cKsEA8jLY88"
      },
      "source": [
        "from sklearn.ensemble import RandomForestRegressor\n",
        "from cuml.ensemble import RandomForestRegressor"
      ],
      "execution_count": null,
      "outputs": []
    }
  ]
}